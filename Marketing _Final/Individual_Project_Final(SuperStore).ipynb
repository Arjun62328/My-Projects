{
 "cells": [
  {
   "cell_type": "code",
   "execution_count": 1,
   "id": "c3e8ee13",
   "metadata": {
    "execution": {
     "iopub.execute_input": "2023-10-29T11:03:08.015749Z",
     "iopub.status.busy": "2023-10-29T11:03:08.014700Z",
     "iopub.status.idle": "2023-10-29T11:03:08.426050Z",
     "shell.execute_reply": "2023-10-29T11:03:08.424838Z"
    },
    "papermill": {
     "duration": 0.436872,
     "end_time": "2023-10-29T11:03:08.428833",
     "exception": false,
     "start_time": "2023-10-29T11:03:07.991961",
     "status": "completed"
    },
    "tags": []
   },
   "outputs": [],
   "source": [
    "#IMPORTIING LIBRARIES\n",
    "import pandas as pd\n",
    "import numpy as np"
   ]
  },
  {
   "cell_type": "code",
   "execution_count": 2,
   "id": "e5f3f6c2",
   "metadata": {
    "execution": {
     "iopub.execute_input": "2023-10-29T11:03:08.471727Z",
     "iopub.status.busy": "2023-10-29T11:03:08.471172Z",
     "iopub.status.idle": "2023-10-29T11:03:08.607288Z",
     "shell.execute_reply": "2023-10-29T11:03:08.606155Z"
    },
    "papermill": {
     "duration": 0.160309,
     "end_time": "2023-10-29T11:03:08.610019",
     "exception": false,
     "start_time": "2023-10-29T11:03:08.449710",
     "status": "completed"
    },
    "tags": []
   },
   "outputs": [],
   "source": [
    "#READING THE DATA\n",
    "df = pd.read_csv('Superstore.csv')"
   ]
  },
  {
   "cell_type": "code",
   "execution_count": 3,
   "id": "e5c6e919",
   "metadata": {
    "execution": {
     "iopub.execute_input": "2023-10-29T11:03:08.653227Z",
     "iopub.status.busy": "2023-10-29T11:03:08.652581Z",
     "iopub.status.idle": "2023-10-29T11:03:08.691643Z",
     "shell.execute_reply": "2023-10-29T11:03:08.690873Z"
    },
    "papermill": {
     "duration": 0.063816,
     "end_time": "2023-10-29T11:03:08.694440",
     "exception": false,
     "start_time": "2023-10-29T11:03:08.630624",
     "status": "completed"
    },
    "scrolled": true,
    "tags": []
   },
   "outputs": [
    {
     "data": {
      "text/html": [
       "<div>\n",
       "<style scoped>\n",
       "    .dataframe tbody tr th:only-of-type {\n",
       "        vertical-align: middle;\n",
       "    }\n",
       "\n",
       "    .dataframe tbody tr th {\n",
       "        vertical-align: top;\n",
       "    }\n",
       "\n",
       "    .dataframe thead th {\n",
       "        text-align: right;\n",
       "    }\n",
       "</style>\n",
       "<table border=\"1\" class=\"dataframe\">\n",
       "  <thead>\n",
       "    <tr style=\"text-align: right;\">\n",
       "      <th></th>\n",
       "      <th>Row ID</th>\n",
       "      <th>Order ID</th>\n",
       "      <th>Order Date</th>\n",
       "      <th>Ship Date</th>\n",
       "      <th>Ship Mode</th>\n",
       "      <th>Customer ID</th>\n",
       "      <th>Customer Name</th>\n",
       "      <th>Segment</th>\n",
       "      <th>Country</th>\n",
       "      <th>City</th>\n",
       "      <th>...</th>\n",
       "      <th>Postal Code</th>\n",
       "      <th>Region</th>\n",
       "      <th>Product ID</th>\n",
       "      <th>Category</th>\n",
       "      <th>Sub-Category</th>\n",
       "      <th>Product Name</th>\n",
       "      <th>Sales</th>\n",
       "      <th>Quantity</th>\n",
       "      <th>Discount</th>\n",
       "      <th>Profit</th>\n",
       "    </tr>\n",
       "  </thead>\n",
       "  <tbody>\n",
       "    <tr>\n",
       "      <th>0</th>\n",
       "      <td>1</td>\n",
       "      <td>CA-2016-152156</td>\n",
       "      <td>11/8/2016</td>\n",
       "      <td>11/11/2016</td>\n",
       "      <td>Second Class</td>\n",
       "      <td>CG-12520</td>\n",
       "      <td>Claire Gute</td>\n",
       "      <td>Consumer</td>\n",
       "      <td>United States</td>\n",
       "      <td>Henderson</td>\n",
       "      <td>...</td>\n",
       "      <td>42420</td>\n",
       "      <td>South</td>\n",
       "      <td>FUR-BO-10001798</td>\n",
       "      <td>Furniture</td>\n",
       "      <td>Bookcases</td>\n",
       "      <td>Bush Somerset Collection Bookcase</td>\n",
       "      <td>261.9600</td>\n",
       "      <td>2</td>\n",
       "      <td>0.00</td>\n",
       "      <td>41.9136</td>\n",
       "    </tr>\n",
       "    <tr>\n",
       "      <th>1</th>\n",
       "      <td>2</td>\n",
       "      <td>CA-2016-152156</td>\n",
       "      <td>11/8/2016</td>\n",
       "      <td>11/11/2016</td>\n",
       "      <td>Second Class</td>\n",
       "      <td>CG-12520</td>\n",
       "      <td>Claire Gute</td>\n",
       "      <td>Consumer</td>\n",
       "      <td>United States</td>\n",
       "      <td>Henderson</td>\n",
       "      <td>...</td>\n",
       "      <td>42420</td>\n",
       "      <td>South</td>\n",
       "      <td>FUR-CH-10000454</td>\n",
       "      <td>Furniture</td>\n",
       "      <td>Chairs</td>\n",
       "      <td>Hon Deluxe Fabric Upholstered Stacking Chairs,...</td>\n",
       "      <td>731.9400</td>\n",
       "      <td>3</td>\n",
       "      <td>0.00</td>\n",
       "      <td>219.5820</td>\n",
       "    </tr>\n",
       "    <tr>\n",
       "      <th>2</th>\n",
       "      <td>3</td>\n",
       "      <td>CA-2016-138688</td>\n",
       "      <td>6/12/2016</td>\n",
       "      <td>6/16/2016</td>\n",
       "      <td>Second Class</td>\n",
       "      <td>DV-13045</td>\n",
       "      <td>Darrin Van Huff</td>\n",
       "      <td>Corporate</td>\n",
       "      <td>United States</td>\n",
       "      <td>Los Angeles</td>\n",
       "      <td>...</td>\n",
       "      <td>90036</td>\n",
       "      <td>West</td>\n",
       "      <td>OFF-LA-10000240</td>\n",
       "      <td>Office Supplies</td>\n",
       "      <td>Labels</td>\n",
       "      <td>Self-Adhesive Address Labels for Typewriters b...</td>\n",
       "      <td>14.6200</td>\n",
       "      <td>2</td>\n",
       "      <td>0.00</td>\n",
       "      <td>6.8714</td>\n",
       "    </tr>\n",
       "    <tr>\n",
       "      <th>3</th>\n",
       "      <td>4</td>\n",
       "      <td>US-2015-108966</td>\n",
       "      <td>10/11/2015</td>\n",
       "      <td>10/18/2015</td>\n",
       "      <td>Standard Class</td>\n",
       "      <td>SO-20335</td>\n",
       "      <td>Sean O'Donnell</td>\n",
       "      <td>Consumer</td>\n",
       "      <td>United States</td>\n",
       "      <td>Fort Lauderdale</td>\n",
       "      <td>...</td>\n",
       "      <td>33311</td>\n",
       "      <td>South</td>\n",
       "      <td>FUR-TA-10000577</td>\n",
       "      <td>Furniture</td>\n",
       "      <td>Tables</td>\n",
       "      <td>Bretford CR4500 Series Slim Rectangular Table</td>\n",
       "      <td>957.5775</td>\n",
       "      <td>5</td>\n",
       "      <td>0.45</td>\n",
       "      <td>-383.0310</td>\n",
       "    </tr>\n",
       "    <tr>\n",
       "      <th>4</th>\n",
       "      <td>5</td>\n",
       "      <td>US-2015-108966</td>\n",
       "      <td>10/11/2015</td>\n",
       "      <td>10/18/2015</td>\n",
       "      <td>Standard Class</td>\n",
       "      <td>SO-20335</td>\n",
       "      <td>Sean O'Donnell</td>\n",
       "      <td>Consumer</td>\n",
       "      <td>United States</td>\n",
       "      <td>Fort Lauderdale</td>\n",
       "      <td>...</td>\n",
       "      <td>33311</td>\n",
       "      <td>South</td>\n",
       "      <td>OFF-ST-10000760</td>\n",
       "      <td>Office Supplies</td>\n",
       "      <td>Storage</td>\n",
       "      <td>Eldon Fold 'N Roll Cart System</td>\n",
       "      <td>22.3680</td>\n",
       "      <td>2</td>\n",
       "      <td>0.20</td>\n",
       "      <td>2.5164</td>\n",
       "    </tr>\n",
       "  </tbody>\n",
       "</table>\n",
       "<p>5 rows × 21 columns</p>\n",
       "</div>"
      ],
      "text/plain": [
       "   Row ID        Order ID  Order Date   Ship Date       Ship Mode Customer ID  \\\n",
       "0       1  CA-2016-152156   11/8/2016  11/11/2016    Second Class    CG-12520   \n",
       "1       2  CA-2016-152156   11/8/2016  11/11/2016    Second Class    CG-12520   \n",
       "2       3  CA-2016-138688   6/12/2016   6/16/2016    Second Class    DV-13045   \n",
       "3       4  US-2015-108966  10/11/2015  10/18/2015  Standard Class    SO-20335   \n",
       "4       5  US-2015-108966  10/11/2015  10/18/2015  Standard Class    SO-20335   \n",
       "\n",
       "     Customer Name    Segment        Country             City  ...  \\\n",
       "0      Claire Gute   Consumer  United States        Henderson  ...   \n",
       "1      Claire Gute   Consumer  United States        Henderson  ...   \n",
       "2  Darrin Van Huff  Corporate  United States      Los Angeles  ...   \n",
       "3   Sean O'Donnell   Consumer  United States  Fort Lauderdale  ...   \n",
       "4   Sean O'Donnell   Consumer  United States  Fort Lauderdale  ...   \n",
       "\n",
       "  Postal Code  Region       Product ID         Category Sub-Category  \\\n",
       "0       42420   South  FUR-BO-10001798        Furniture    Bookcases   \n",
       "1       42420   South  FUR-CH-10000454        Furniture       Chairs   \n",
       "2       90036    West  OFF-LA-10000240  Office Supplies       Labels   \n",
       "3       33311   South  FUR-TA-10000577        Furniture       Tables   \n",
       "4       33311   South  OFF-ST-10000760  Office Supplies      Storage   \n",
       "\n",
       "                                        Product Name     Sales  Quantity  \\\n",
       "0                  Bush Somerset Collection Bookcase  261.9600         2   \n",
       "1  Hon Deluxe Fabric Upholstered Stacking Chairs,...  731.9400         3   \n",
       "2  Self-Adhesive Address Labels for Typewriters b...   14.6200         2   \n",
       "3      Bretford CR4500 Series Slim Rectangular Table  957.5775         5   \n",
       "4                     Eldon Fold 'N Roll Cart System   22.3680         2   \n",
       "\n",
       "   Discount    Profit  \n",
       "0      0.00   41.9136  \n",
       "1      0.00  219.5820  \n",
       "2      0.00    6.8714  \n",
       "3      0.45 -383.0310  \n",
       "4      0.20    2.5164  \n",
       "\n",
       "[5 rows x 21 columns]"
      ]
     },
     "execution_count": 3,
     "metadata": {},
     "output_type": "execute_result"
    }
   ],
   "source": [
    "#TOP 5 ROWS FROM DATA\n",
    "df.head()"
   ]
  },
  {
   "cell_type": "code",
   "execution_count": 4,
   "id": "45d461fc",
   "metadata": {
    "execution": {
     "iopub.execute_input": "2023-10-29T11:03:08.737518Z",
     "iopub.status.busy": "2023-10-29T11:03:08.736842Z",
     "iopub.status.idle": "2023-10-29T11:03:08.742971Z",
     "shell.execute_reply": "2023-10-29T11:03:08.741927Z"
    },
    "papermill": {
     "duration": 0.030045,
     "end_time": "2023-10-29T11:03:08.745080",
     "exception": false,
     "start_time": "2023-10-29T11:03:08.715035",
     "status": "completed"
    },
    "tags": []
   },
   "outputs": [
    {
     "data": {
      "text/plain": [
       "(9994, 21)"
      ]
     },
     "execution_count": 4,
     "metadata": {},
     "output_type": "execute_result"
    }
   ],
   "source": [
    "#ROWS AND COLUMNS COUNT \n",
    "df.shape"
   ]
  },
  {
   "cell_type": "code",
   "execution_count": 5,
   "id": "9b56ff2f",
   "metadata": {},
   "outputs": [],
   "source": [
    "#DROP THE UNNECCESARY COLUMNS FROM THE DATA\n",
    "df.drop(columns=[\"Row ID\", \"Country\", \"Customer Name\"], inplace=True)"
   ]
  },
  {
   "cell_type": "code",
   "execution_count": 6,
   "id": "7ae4afbd",
   "metadata": {
    "execution": {
     "iopub.execute_input": "2023-10-29T11:03:08.788562Z",
     "iopub.status.busy": "2023-10-29T11:03:08.788161Z",
     "iopub.status.idle": "2023-10-29T11:03:08.798811Z",
     "shell.execute_reply": "2023-10-29T11:03:08.797984Z"
    },
    "papermill": {
     "duration": 0.035315,
     "end_time": "2023-10-29T11:03:08.801082",
     "exception": false,
     "start_time": "2023-10-29T11:03:08.765767",
     "status": "completed"
    },
    "tags": []
   },
   "outputs": [
    {
     "data": {
      "text/plain": [
       "(9994, 18)"
      ]
     },
     "execution_count": 6,
     "metadata": {},
     "output_type": "execute_result"
    }
   ],
   "source": [
    "#ROWS AND COLUMNS COUNT AFTER DELETING THE COLUMNS\n",
    "df.shape"
   ]
  },
  {
   "cell_type": "code",
   "execution_count": 7,
   "id": "7ffbf213",
   "metadata": {
    "execution": {
     "iopub.execute_input": "2023-10-29T11:03:08.998789Z",
     "iopub.status.busy": "2023-10-29T11:03:08.998376Z",
     "iopub.status.idle": "2023-10-29T11:03:09.029135Z",
     "shell.execute_reply": "2023-10-29T11:03:09.028094Z"
    },
    "papermill": {
     "duration": 0.055563,
     "end_time": "2023-10-29T11:03:09.031659",
     "exception": false,
     "start_time": "2023-10-29T11:03:08.976096",
     "status": "completed"
    },
    "tags": []
   },
   "outputs": [],
   "source": [
    "#MAKING NEW COLUMNS BY SUBSETUTING THE ORDER_DATE AND SHIP DATE\n",
    "df['Order Date'] = pd.to_datetime(df['Order Date'])\n",
    "df['Ship Date'] = pd.to_datetime(df['Ship Date'])"
   ]
  },
  {
   "cell_type": "code",
   "execution_count": 8,
   "id": "48b9738f",
   "metadata": {
    "execution": {
     "iopub.execute_input": "2023-10-29T11:03:09.075561Z",
     "iopub.status.busy": "2023-10-29T11:03:09.075174Z",
     "iopub.status.idle": "2023-10-29T11:03:09.081356Z",
     "shell.execute_reply": "2023-10-29T11:03:09.080497Z"
    },
    "papermill": {
     "duration": 0.03085,
     "end_time": "2023-10-29T11:03:09.083608",
     "exception": false,
     "start_time": "2023-10-29T11:03:09.052758",
     "status": "completed"
    },
    "tags": []
   },
   "outputs": [],
   "source": [
    "df['delivery_time'] = df['Ship Date'] - df['Order Date']"
   ]
  },
  {
   "cell_type": "code",
   "execution_count": 9,
   "id": "69061efb",
   "metadata": {
    "execution": {
     "iopub.execute_input": "2023-10-29T11:03:09.127757Z",
     "iopub.status.busy": "2023-10-29T11:03:09.127368Z",
     "iopub.status.idle": "2023-10-29T11:03:09.311848Z",
     "shell.execute_reply": "2023-10-29T11:03:09.310819Z"
    },
    "papermill": {
     "duration": 0.210445,
     "end_time": "2023-10-29T11:03:09.314745",
     "exception": false,
     "start_time": "2023-10-29T11:03:09.104300",
     "status": "completed"
    },
    "tags": []
   },
   "outputs": [],
   "source": [
    "df['delivery_time']=df['delivery_time'].astype(str)\n",
    "df['delivery_time']=df['delivery_time'].str.replace('days','').astype(int).abs()"
   ]
  },
  {
   "cell_type": "code",
   "execution_count": 10,
   "id": "2e1a7478",
   "metadata": {
    "execution": {
     "iopub.execute_input": "2023-10-29T11:03:09.359119Z",
     "iopub.status.busy": "2023-10-29T11:03:09.358722Z",
     "iopub.status.idle": "2023-10-29T11:03:09.366878Z",
     "shell.execute_reply": "2023-10-29T11:03:09.365771Z"
    },
    "papermill": {
     "duration": 0.033058,
     "end_time": "2023-10-29T11:03:09.369260",
     "exception": false,
     "start_time": "2023-10-29T11:03:09.336202",
     "status": "completed"
    },
    "tags": []
   },
   "outputs": [],
   "source": [
    "#DROPPING THE ORDER_DATE AND SHIP_DATE FROM THE DATA\n",
    "df.drop(columns=['Order Date','Ship Date'], inplace=True)"
   ]
  },
  {
   "cell_type": "code",
   "execution_count": 11,
   "id": "a4f62a7a",
   "metadata": {
    "execution": {
     "iopub.execute_input": "2023-10-29T11:03:09.471052Z",
     "iopub.status.busy": "2023-10-29T11:03:09.470689Z",
     "iopub.status.idle": "2023-10-29T11:03:09.502450Z",
     "shell.execute_reply": "2023-10-29T11:03:09.500619Z"
    },
    "papermill": {
     "duration": 0.05665,
     "end_time": "2023-10-29T11:03:09.504927",
     "exception": false,
     "start_time": "2023-10-29T11:03:09.448277",
     "status": "completed"
    },
    "tags": []
   },
   "outputs": [
    {
     "name": "stdout",
     "output_type": "stream",
     "text": [
      "<class 'pandas.core.frame.DataFrame'>\n",
      "RangeIndex: 9994 entries, 0 to 9993\n",
      "Data columns (total 17 columns):\n",
      " #   Column         Non-Null Count  Dtype  \n",
      "---  ------         --------------  -----  \n",
      " 0   Order ID       9994 non-null   object \n",
      " 1   Ship Mode      9994 non-null   object \n",
      " 2   Customer ID    9994 non-null   object \n",
      " 3   Segment        9994 non-null   object \n",
      " 4   City           9994 non-null   object \n",
      " 5   State          9994 non-null   object \n",
      " 6   Postal Code    9994 non-null   int64  \n",
      " 7   Region         9994 non-null   object \n",
      " 8   Product ID     9994 non-null   object \n",
      " 9   Category       9994 non-null   object \n",
      " 10  Sub-Category   9994 non-null   object \n",
      " 11  Product Name   9994 non-null   object \n",
      " 12  Sales          9994 non-null   float64\n",
      " 13  Quantity       9994 non-null   int64  \n",
      " 14  Discount       9994 non-null   float64\n",
      " 15  Profit         9994 non-null   float64\n",
      " 16  delivery_time  9994 non-null   int64  \n",
      "dtypes: float64(3), int64(3), object(11)\n",
      "memory usage: 1.3+ MB\n"
     ]
    }
   ],
   "source": [
    "df.info()"
   ]
  },
  {
   "cell_type": "code",
   "execution_count": 12,
   "id": "85723e7f",
   "metadata": {
    "execution": {
     "iopub.execute_input": "2023-10-29T11:03:09.549442Z",
     "iopub.status.busy": "2023-10-29T11:03:09.549081Z",
     "iopub.status.idle": "2023-10-29T11:03:11.094037Z",
     "shell.execute_reply": "2023-10-29T11:03:11.092909Z"
    },
    "papermill": {
     "duration": 1.570775,
     "end_time": "2023-10-29T11:03:11.096984",
     "exception": false,
     "start_time": "2023-10-29T11:03:09.526209",
     "status": "completed"
    },
    "tags": []
   },
   "outputs": [],
   "source": [
    "#IMPORTING THE MATPLOTLIB AND SEABORN FOR INSIGHTS\n",
    "import seaborn as sns\n",
    "import matplotlib.pyplot as plt"
   ]
  },
  {
   "cell_type": "code",
   "execution_count": 13,
   "id": "4b35689a",
   "metadata": {
    "execution": {
     "iopub.execute_input": "2023-10-29T11:03:11.680060Z",
     "iopub.status.busy": "2023-10-29T11:03:11.679462Z",
     "iopub.status.idle": "2023-10-29T11:03:12.378777Z",
     "shell.execute_reply": "2023-10-29T11:03:12.377665Z"
    },
    "papermill": {
     "duration": 0.725737,
     "end_time": "2023-10-29T11:03:12.381559",
     "exception": false,
     "start_time": "2023-10-29T11:03:11.655822",
     "status": "completed"
    },
    "tags": []
   },
   "outputs": [
    {
     "data": {
      "text/plain": [
       "<AxesSubplot:xlabel='delivery_time', ylabel='Count'>"
      ]
     },
     "execution_count": 13,
     "metadata": {},
     "output_type": "execute_result"
    },
    {
     "data": {
      "image/png": "[encoded data removed]",
      "text/plain": [
       "<Figure size 432x288 with 1 Axes>"
      ]
     },
     "metadata": {
      "needs_background": "light"
     },
     "output_type": "display_data"
    }
   ],
   "source": [
    "sns.histplot(data=df, x=\"delivery_time\", hue=\"Category\")"
   ]
  },
  {
   "cell_type": "code",
   "execution_count": 14,
   "id": "36f368f3",
   "metadata": {
    "execution": {
     "iopub.execute_input": "2023-10-29T11:03:12.477008Z",
     "iopub.status.busy": "2023-10-29T11:03:12.476609Z",
     "iopub.status.idle": "2023-10-29T11:03:12.728179Z",
     "shell.execute_reply": "2023-10-29T11:03:12.726839Z"
    },
    "papermill": {
     "duration": 0.280482,
     "end_time": "2023-10-29T11:03:12.732506",
     "exception": false,
     "start_time": "2023-10-29T11:03:12.452024",
     "status": "completed"
    },
    "scrolled": true,
    "tags": []
   },
   "outputs": [
    {
     "data": {
      "image/png": "[encoded data removed]",
      "text/plain": [
       "<Figure size 720x432 with 1 Axes>"
      ]
     },
     "metadata": {},
     "output_type": "display_data"
    }
   ],
   "source": [
    "#CREATING A PIE CHART FOR PURCHASE RATE IN DIFFERENT STATES OF US\n",
    "temp=pd.DataFrame(df.groupby('State')['Quantity'].sum().reset_index())\n",
    "temp=temp.sort_values('Quantity', ascending=False).head(10)\n",
    "\n",
    "fig, ax = plt.subplots(figsize=(10,6))\n",
    "ax.pie(temp['Quantity'], labels=temp['State'], autopct='%1.1f%%')\n",
    "\n",
    "ax.set_title('Purchase rate in different states')\n",
    "\n",
    "plt.show()"
   ]
  },
  {
   "cell_type": "code",
   "execution_count": 337,
   "id": "166ab2f1",
   "metadata": {
    "execution": {
     "iopub.execute_input": "2023-10-29T11:03:12.790497Z",
     "iopub.status.busy": "2023-10-29T11:03:12.789777Z",
     "iopub.status.idle": "2023-10-29T11:03:12.807473Z",
     "shell.execute_reply": "2023-10-29T11:03:12.806367Z"
    },
    "papermill": {
     "duration": 0.044595,
     "end_time": "2023-10-29T11:03:12.809772",
     "exception": false,
     "start_time": "2023-10-29T11:03:12.765177",
     "status": "completed"
    },
    "tags": []
   },
   "outputs": [
    {
     "data": {
      "text/plain": [
       "State    City        \n",
       "Alabama  Decatur         13\n",
       "         Mobile          11\n",
       "         Huntsville      10\n",
       "         Montgomery      10\n",
       "         Auburn           6\n",
       "         Florence         5\n",
       "         Hoover           4\n",
       "         Tuscaloosa       2\n",
       "Arizona  Phoenix         63\n",
       "         Tucson          32\n",
       "         Mesa            28\n",
       "         Glendale        23\n",
       "         Peoria          16\n",
       "         Gilbert         15\n",
       "         Tempe           13\n",
       "         Scottsdale      12\n",
       "         Chandler         7\n",
       "         Avondale         6\n",
       "         Yuma             4\n",
       "         Sierra Vista     3\n",
       "Name: City, dtype: int64"
      ]
     },
     "execution_count": 337,
     "metadata": {},
     "output_type": "execute_result"
    }
   ],
   "source": [
    "df.groupby('State')['City'].value_counts().head(20)"
   ]
  },
  {
   "cell_type": "code",
   "execution_count": 338,
   "id": "3c8badef",
   "metadata": {
    "execution": {
     "iopub.execute_input": "2023-10-29T11:03:12.859127Z",
     "iopub.status.busy": "2023-10-29T11:03:12.858409Z",
     "iopub.status.idle": "2023-10-29T11:03:13.268840Z",
     "shell.execute_reply": "2023-10-29T11:03:13.267651Z"
    },
    "papermill": {
     "duration": 0.4377,
     "end_time": "2023-10-29T11:03:13.271195",
     "exception": false,
     "start_time": "2023-10-29T11:03:12.833495",
     "status": "completed"
    },
    "tags": []
   },
   "outputs": [
    {
     "data": {
      "image/png": "[encoded data removed]",
      "text/plain": [
       "<Figure size 432x288 with 1 Axes>"
      ]
     },
     "metadata": {
      "needs_background": "light"
     },
     "output_type": "display_data"
    }
   ],
   "source": [
    "#COUNT OF SHIPPING MODEplt.figure(figsize=(10, 6))\n",
    "sns.countplot(data=df, x='Ship Mode', hue='Category')\n",
    "plt.title('Count of Shipping Modes by Category')\n",
    "plt.xlabel('Ship Mode')\n",
    "plt.ylabel('Count')\n",
    "plt.show()\n"
   ]
  },
  {
   "cell_type": "code",
   "execution_count": 339,
   "id": "2b614b1e",
   "metadata": {
    "execution": {
     "iopub.execute_input": "2023-10-29T11:03:14.932580Z",
     "iopub.status.busy": "2023-10-29T11:03:14.932180Z",
     "iopub.status.idle": "2023-10-29T11:03:15.122454Z",
     "shell.execute_reply": "2023-10-29T11:03:15.121647Z"
    },
    "papermill": {
     "duration": 0.221305,
     "end_time": "2023-10-29T11:03:15.124581",
     "exception": false,
     "start_time": "2023-10-29T11:03:14.903276",
     "status": "completed"
    },
    "tags": []
   },
   "outputs": [
    {
     "data": {
      "image/png": "[encoded data removed]",
      "text/plain": [
       "<Figure size 432x288 with 1 Axes>"
      ]
     },
     "metadata": {
      "needs_background": "light"
     },
     "output_type": "display_data"
    }
   ],
   "source": [
    "#COUNT OF TOP 5 SUB-CATEGORY FROM THE DATA\n",
    "sns.barplot(data=df.groupby(\"Sub-Category\")[\"Quantity\"].count().sort_values(ascending=False).head(5).reset_index(), x=\"Sub-Category\", y=\"Quantity\")\n",
    "\n",
    "plt.show()"
   ]
  },
  {
   "cell_type": "code",
   "execution_count": 340,
   "id": "af918b9d",
   "metadata": {
    "execution": {
     "iopub.execute_input": "2023-10-29T11:03:15.988979Z",
     "iopub.status.busy": "2023-10-29T11:03:15.988007Z",
     "iopub.status.idle": "2023-10-29T11:03:16.451288Z",
     "shell.execute_reply": "2023-10-29T11:03:16.449640Z"
    },
    "papermill": {
     "duration": 0.497999,
     "end_time": "2023-10-29T11:03:16.454981",
     "exception": false,
     "start_time": "2023-10-29T11:03:15.956982",
     "status": "completed"
    },
    "tags": []
   },
   "outputs": [
    {
     "data": {
      "image/png": "[encoded data removed]",
      "text/plain": [
       "<Figure size 720x432 with 1 Axes>"
      ]
     },
     "metadata": {
      "needs_background": "light"
     },
     "output_type": "display_data"
    }
   ],
   "source": [
    "#THE BAR GRAPH FOR TOP 10 SUB-CATEGORY\n",
    "temp = df.groupby('Sub-Category').sum()['Quantity'].reset_index()\n",
    "temp = temp.sort_values('Quantity', ascending=False).head(10)\n",
    "\n",
    "plt.figure(figsize=(10, 6))\n",
    "sns.barplot(data=temp, x='Quantity', y='Sub-Category', palette='viridis')\n",
    "plt.title('Top 10 Sub-Categories by Quantity Sum')\n",
    "plt.xlabel('Quantity')\n",
    "plt.ylabel('Sub-Category')\n",
    "plt.show()"
   ]
  },
  {
   "cell_type": "code",
   "execution_count": 341,
   "id": "31adf66b",
   "metadata": {
    "execution": {
     "iopub.execute_input": "2023-10-29T11:03:16.518416Z",
     "iopub.status.busy": "2023-10-29T11:03:16.517377Z",
     "iopub.status.idle": "2023-10-29T11:03:16.900772Z",
     "shell.execute_reply": "2023-10-29T11:03:16.899618Z"
    },
    "papermill": {
     "duration": 0.417669,
     "end_time": "2023-10-29T11:03:16.903137",
     "exception": false,
     "start_time": "2023-10-29T11:03:16.485468",
     "status": "completed"
    },
    "tags": []
   },
   "outputs": [
    {
     "data": {
      "image/png": "[encoded data removed]",
      "text/plain": [
       "<Figure size 864x432 with 1 Axes>"
      ]
     },
     "metadata": {
      "needs_background": "light"
     },
     "output_type": "display_data"
    }
   ],
   "source": [
    "#TOP CITIES WITH NUMBER OF PURCHASE COUNT > 50\n",
    "top_cities = df['City'].value_counts().rename_axis('City').reset_index(name='Count')\n",
    "top_cities = top_cities[top_cities['Count'] > 50]\n",
    "plt.figure(figsize=(12, 6))\n",
    "sns.barplot(data=top_cities, x='City', y='Count', palette='viridis')\n",
    "plt.xticks(rotation='vertical')\n",
    "plt.title('Number of Purchases from Top Cities')\n",
    "plt.show()"
   ]
  },
  {
   "cell_type": "code",
   "execution_count": 342,
   "id": "0b6fdcb6",
   "metadata": {
    "execution": {
     "iopub.execute_input": "2023-10-29T11:03:20.872504Z",
     "iopub.status.busy": "2023-10-29T11:03:20.872142Z",
     "iopub.status.idle": "2023-10-29T11:03:21.390340Z",
     "shell.execute_reply": "2023-10-29T11:03:21.389113Z"
    },
    "papermill": {
     "duration": 0.557707,
     "end_time": "2023-10-29T11:03:21.392869",
     "exception": false,
     "start_time": "2023-10-29T11:03:20.835162",
     "status": "completed"
    },
    "tags": []
   },
   "outputs": [
    {
     "data": {
      "image/png": "[encoded data removed]",
      "text/plain": [
       "<Figure size 1080x648 with 1 Axes>"
      ]
     },
     "metadata": {
      "needs_background": "light"
     },
     "output_type": "display_data"
    }
   ],
   "source": [
    "#PROFIT VS LOSS FOR STATE\n",
    "profits = df[df['Profit'] > 0].groupby('State')['Profit'].sum().reset_index()\n",
    "losses = df[df['Profit'] < 0].groupby('State')['Profit'].sum().reset_index()\n",
    "\n",
    "plt.figure(figsize=(15, 9))\n",
    "sns.lineplot(data=profits, x='State', y='Profit', label='Profit', marker='o')\n",
    "sns.lineplot(data=losses, x='State', y='Profit', label='Loss', color='red', marker='o')\n",
    "plt.xticks(rotation='vertical')\n",
    "plt.title('Profit vs Loss for Each State')\n",
    "plt.ylabel('Amount')\n",
    "plt.legend()\n",
    "plt.show()"
   ]
  },
  {
   "cell_type": "markdown",
   "id": "59c6f230",
   "metadata": {
    "papermill": {
     "duration": 0.037598,
     "end_time": "2023-10-29T11:03:22.619652",
     "exception": false,
     "start_time": "2023-10-29T11:03:22.582054",
     "status": "completed"
    },
    "tags": []
   },
   "source": [
    "### Corelation"
   ]
  },
  {
   "cell_type": "code",
   "execution_count": 343,
   "id": "b93e49f8",
   "metadata": {
    "execution": {
     "iopub.execute_input": "2023-10-29T11:03:22.697324Z",
     "iopub.status.busy": "2023-10-29T11:03:22.696956Z",
     "iopub.status.idle": "2023-10-29T11:03:23.174800Z",
     "shell.execute_reply": "2023-10-29T11:03:23.173796Z"
    },
    "papermill": {
     "duration": 0.520385,
     "end_time": "2023-10-29T11:03:23.177772",
     "exception": false,
     "start_time": "2023-10-29T11:03:22.657387",
     "status": "completed"
    },
    "tags": []
   },
   "outputs": [
    {
     "data": {
      "text/plain": [
       "<AxesSubplot:>"
      ]
     },
     "execution_count": 343,
     "metadata": {},
     "output_type": "execute_result"
    },
    {
     "data": {
      "image/png": "[encoded data removed]",
      "text/plain": [
       "<Figure size 432x288 with 2 Axes>"
      ]
     },
     "metadata": {
      "needs_background": "light"
     },
     "output_type": "display_data"
    }
   ],
   "source": [
    "# Selecting numeric data to calculate correlation\n",
    "df_numeric = df.select_dtypes(include='number')\n",
    "sns.heatmap(df_numeric.corr(), annot=True, cmap='coolwarm')"
   ]
  },
  {
   "cell_type": "code",
   "execution_count": 344,
   "id": "88b92ff3",
   "metadata": {
    "execution": {
     "iopub.execute_input": "2023-10-29T11:03:23.351859Z",
     "iopub.status.busy": "2023-10-29T11:03:23.351174Z",
     "iopub.status.idle": "2023-10-29T11:03:23.793153Z",
     "shell.execute_reply": "2023-10-29T11:03:23.791888Z"
    },
    "papermill": {
     "duration": 0.485103,
     "end_time": "2023-10-29T11:03:23.795641",
     "exception": false,
     "start_time": "2023-10-29T11:03:23.310538",
     "status": "completed"
    },
    "tags": []
   },
   "outputs": [
    {
     "data": {
      "image/png": "[encoded data removed]",
      "text/plain": [
       "<Figure size 432x288 with 2 Axes>"
      ]
     },
     "metadata": {
      "needs_background": "light"
     },
     "output_type": "display_data"
    }
   ],
   "source": [
    "label = ['Postal Code','Sales', 'Quantity','Discount','Profit','delivery_time']\n",
    "sns.heatmap(df_numeric.corr()['Profit'].values.reshape(-1, 1), annot=True, cmap='coolwarm', yticklabels=label, xticklabels=['Profit'])\n",
    "plt.show()"
   ]
  },
  {
   "cell_type": "code",
   "execution_count": 345,
   "id": "fe372651",
   "metadata": {
    "execution": {
     "iopub.execute_input": "2023-10-29T11:03:23.961226Z",
     "iopub.status.busy": "2023-10-29T11:03:23.960465Z",
     "iopub.status.idle": "2023-10-29T11:03:24.286517Z",
     "shell.execute_reply": "2023-10-29T11:03:24.285143Z"
    },
    "papermill": {
     "duration": 0.373975,
     "end_time": "2023-10-29T11:03:24.288966",
     "exception": false,
     "start_time": "2023-10-29T11:03:23.914991",
     "status": "completed"
    },
    "tags": []
   },
   "outputs": [
    {
     "data": {
      "image/png": "[encoded data removed]",
      "text/plain": [
       "<Figure size 432x288 with 2 Axes>"
      ]
     },
     "metadata": {
      "needs_background": "light"
     },
     "output_type": "display_data"
    }
   ],
   "source": [
    "label = ['Postal Code','Sales', 'Quantity','Discount','Profit','delivery_time']\n",
    "sns.heatmap(df_numeric.corr()['Sales'].values.reshape(-1, 1), annot=True, cmap='coolwarm', yticklabels=label, xticklabels=['Sales'])\n",
    "plt.show()"
   ]
  },
  {
   "cell_type": "markdown",
   "id": "0eb2c471",
   "metadata": {
    "papermill": {
     "duration": 0.03917,
     "end_time": "2023-10-29T11:03:24.367696",
     "exception": false,
     "start_time": "2023-10-29T11:03:24.328526",
     "status": "completed"
    },
    "tags": []
   },
   "source": [
    "# Price"
   ]
  },
  {
   "cell_type": "code",
   "execution_count": 346,
   "id": "6bdbb35a",
   "metadata": {
    "execution": {
     "iopub.execute_input": "2023-10-29T11:03:24.451119Z",
     "iopub.status.busy": "2023-10-29T11:03:24.450383Z",
     "iopub.status.idle": "2023-10-29T11:03:24.457480Z",
     "shell.execute_reply": "2023-10-29T11:03:24.456679Z"
    },
    "papermill": {
     "duration": 0.05252,
     "end_time": "2023-10-29T11:03:24.459738",
     "exception": false,
     "start_time": "2023-10-29T11:03:24.407218",
     "status": "completed"
    },
    "tags": []
   },
   "outputs": [],
   "source": [
    "#MAKING NEW COLUMNS \n",
    "df['cost price'] = (df['Sales'] - df['Profit'])/df['Quantity']\n",
    "df['Price(before discount)'] = df['cost price'] + (df['cost price'] * df['Discount'])"
   ]
  },
  {
   "cell_type": "code",
   "execution_count": 347,
   "id": "4c06d3fe",
   "metadata": {
    "execution": {
     "iopub.execute_input": "2023-10-29T11:03:24.787255Z",
     "iopub.status.busy": "2023-10-29T11:03:24.786862Z",
     "iopub.status.idle": "2023-10-29T11:03:24.794428Z",
     "shell.execute_reply": "2023-10-29T11:03:24.793647Z"
    },
    "papermill": {
     "duration": 0.050701,
     "end_time": "2023-10-29T11:03:24.796823",
     "exception": false,
     "start_time": "2023-10-29T11:03:24.746122",
     "status": "completed"
    },
    "tags": []
   },
   "outputs": [],
   "source": [
    "#DROPPING THE SALES COLUMN\n",
    "df.drop('Sales', axis=1, inplace=True)"
   ]
  },
  {
   "cell_type": "code",
   "execution_count": 348,
   "id": "a335639a",
   "metadata": {
    "execution": {
     "iopub.execute_input": "2023-10-29T11:03:24.958746Z",
     "iopub.status.busy": "2023-10-29T11:03:24.958030Z",
     "iopub.status.idle": "2023-10-29T11:03:24.965649Z",
     "shell.execute_reply": "2023-10-29T11:03:24.964806Z"
    },
    "papermill": {
     "duration": 0.051214,
     "end_time": "2023-10-29T11:03:24.967985",
     "exception": false,
     "start_time": "2023-10-29T11:03:24.916771",
     "status": "completed"
    },
    "tags": []
   },
   "outputs": [],
   "source": [
    "p_df=df.copy()"
   ]
  },
  {
   "cell_type": "code",
   "execution_count": 349,
   "id": "bbdf9e9e",
   "metadata": {
    "execution": {
     "iopub.execute_input": "2023-10-29T11:03:25.052321Z",
     "iopub.status.busy": "2023-10-29T11:03:25.051625Z",
     "iopub.status.idle": "2023-10-29T11:03:25.083670Z",
     "shell.execute_reply": "2023-10-29T11:03:25.082526Z"
    },
    "papermill": {
     "duration": 0.077834,
     "end_time": "2023-10-29T11:03:25.086200",
     "exception": false,
     "start_time": "2023-10-29T11:03:25.008366",
     "status": "completed"
    },
    "scrolled": true,
    "tags": []
   },
   "outputs": [
    {
     "data": {
      "text/html": [
       "<div>\n",
       "<style scoped>\n",
       "    .dataframe tbody tr th:only-of-type {\n",
       "        vertical-align: middle;\n",
       "    }\n",
       "\n",
       "    .dataframe tbody tr th {\n",
       "        vertical-align: top;\n",
       "    }\n",
       "\n",
       "    .dataframe thead th {\n",
       "        text-align: right;\n",
       "    }\n",
       "</style>\n",
       "<table border=\"1\" class=\"dataframe\">\n",
       "  <thead>\n",
       "    <tr style=\"text-align: right;\">\n",
       "      <th></th>\n",
       "      <th>Order ID</th>\n",
       "      <th>Ship Mode</th>\n",
       "      <th>Customer ID</th>\n",
       "      <th>Segment</th>\n",
       "      <th>City</th>\n",
       "      <th>State</th>\n",
       "      <th>Postal Code</th>\n",
       "      <th>Region</th>\n",
       "      <th>Product ID</th>\n",
       "      <th>Category</th>\n",
       "      <th>Sub-Category</th>\n",
       "      <th>Product Name</th>\n",
       "      <th>Quantity</th>\n",
       "      <th>Discount</th>\n",
       "      <th>Profit</th>\n",
       "      <th>delivery_time</th>\n",
       "      <th>cost price</th>\n",
       "      <th>Price(before discount)</th>\n",
       "    </tr>\n",
       "  </thead>\n",
       "  <tbody>\n",
       "    <tr>\n",
       "      <th>0</th>\n",
       "      <td>CA-2016-152156</td>\n",
       "      <td>Second Class</td>\n",
       "      <td>CG-12520</td>\n",
       "      <td>Consumer</td>\n",
       "      <td>Henderson</td>\n",
       "      <td>Kentucky</td>\n",
       "      <td>42420</td>\n",
       "      <td>South</td>\n",
       "      <td>FUR-BO-10001798</td>\n",
       "      <td>Furniture</td>\n",
       "      <td>Bookcases</td>\n",
       "      <td>Bush Somerset Collection Bookcase</td>\n",
       "      <td>2</td>\n",
       "      <td>0.00</td>\n",
       "      <td>41.9136</td>\n",
       "      <td>3</td>\n",
       "      <td>110.0232</td>\n",
       "      <td>110.023200</td>\n",
       "    </tr>\n",
       "    <tr>\n",
       "      <th>1</th>\n",
       "      <td>CA-2016-152156</td>\n",
       "      <td>Second Class</td>\n",
       "      <td>CG-12520</td>\n",
       "      <td>Consumer</td>\n",
       "      <td>Henderson</td>\n",
       "      <td>Kentucky</td>\n",
       "      <td>42420</td>\n",
       "      <td>South</td>\n",
       "      <td>FUR-CH-10000454</td>\n",
       "      <td>Furniture</td>\n",
       "      <td>Chairs</td>\n",
       "      <td>Hon Deluxe Fabric Upholstered Stacking Chairs,...</td>\n",
       "      <td>3</td>\n",
       "      <td>0.00</td>\n",
       "      <td>219.5820</td>\n",
       "      <td>3</td>\n",
       "      <td>170.7860</td>\n",
       "      <td>170.786000</td>\n",
       "    </tr>\n",
       "    <tr>\n",
       "      <th>2</th>\n",
       "      <td>CA-2016-138688</td>\n",
       "      <td>Second Class</td>\n",
       "      <td>DV-13045</td>\n",
       "      <td>Corporate</td>\n",
       "      <td>Los Angeles</td>\n",
       "      <td>California</td>\n",
       "      <td>90036</td>\n",
       "      <td>West</td>\n",
       "      <td>OFF-LA-10000240</td>\n",
       "      <td>Office Supplies</td>\n",
       "      <td>Labels</td>\n",
       "      <td>Self-Adhesive Address Labels for Typewriters b...</td>\n",
       "      <td>2</td>\n",
       "      <td>0.00</td>\n",
       "      <td>6.8714</td>\n",
       "      <td>4</td>\n",
       "      <td>3.8743</td>\n",
       "      <td>3.874300</td>\n",
       "    </tr>\n",
       "    <tr>\n",
       "      <th>3</th>\n",
       "      <td>US-2015-108966</td>\n",
       "      <td>Standard Class</td>\n",
       "      <td>SO-20335</td>\n",
       "      <td>Consumer</td>\n",
       "      <td>Fort Lauderdale</td>\n",
       "      <td>Florida</td>\n",
       "      <td>33311</td>\n",
       "      <td>South</td>\n",
       "      <td>FUR-TA-10000577</td>\n",
       "      <td>Furniture</td>\n",
       "      <td>Tables</td>\n",
       "      <td>Bretford CR4500 Series Slim Rectangular Table</td>\n",
       "      <td>5</td>\n",
       "      <td>0.45</td>\n",
       "      <td>-383.0310</td>\n",
       "      <td>7</td>\n",
       "      <td>268.1217</td>\n",
       "      <td>388.776465</td>\n",
       "    </tr>\n",
       "    <tr>\n",
       "      <th>4</th>\n",
       "      <td>US-2015-108966</td>\n",
       "      <td>Standard Class</td>\n",
       "      <td>SO-20335</td>\n",
       "      <td>Consumer</td>\n",
       "      <td>Fort Lauderdale</td>\n",
       "      <td>Florida</td>\n",
       "      <td>33311</td>\n",
       "      <td>South</td>\n",
       "      <td>OFF-ST-10000760</td>\n",
       "      <td>Office Supplies</td>\n",
       "      <td>Storage</td>\n",
       "      <td>Eldon Fold 'N Roll Cart System</td>\n",
       "      <td>2</td>\n",
       "      <td>0.20</td>\n",
       "      <td>2.5164</td>\n",
       "      <td>7</td>\n",
       "      <td>9.9258</td>\n",
       "      <td>11.910960</td>\n",
       "    </tr>\n",
       "    <tr>\n",
       "      <th>...</th>\n",
       "      <td>...</td>\n",
       "      <td>...</td>\n",
       "      <td>...</td>\n",
       "      <td>...</td>\n",
       "      <td>...</td>\n",
       "      <td>...</td>\n",
       "      <td>...</td>\n",
       "      <td>...</td>\n",
       "      <td>...</td>\n",
       "      <td>...</td>\n",
       "      <td>...</td>\n",
       "      <td>...</td>\n",
       "      <td>...</td>\n",
       "      <td>...</td>\n",
       "      <td>...</td>\n",
       "      <td>...</td>\n",
       "      <td>...</td>\n",
       "      <td>...</td>\n",
       "    </tr>\n",
       "    <tr>\n",
       "      <th>9989</th>\n",
       "      <td>CA-2014-110422</td>\n",
       "      <td>Second Class</td>\n",
       "      <td>TB-21400</td>\n",
       "      <td>Consumer</td>\n",
       "      <td>Miami</td>\n",
       "      <td>Florida</td>\n",
       "      <td>33180</td>\n",
       "      <td>South</td>\n",
       "      <td>FUR-FU-10001889</td>\n",
       "      <td>Furniture</td>\n",
       "      <td>Furnishings</td>\n",
       "      <td>Ultra Door Pull Handle</td>\n",
       "      <td>3</td>\n",
       "      <td>0.20</td>\n",
       "      <td>4.1028</td>\n",
       "      <td>2</td>\n",
       "      <td>7.0484</td>\n",
       "      <td>8.458080</td>\n",
       "    </tr>\n",
       "    <tr>\n",
       "      <th>9990</th>\n",
       "      <td>CA-2017-121258</td>\n",
       "      <td>Standard Class</td>\n",
       "      <td>DB-13060</td>\n",
       "      <td>Consumer</td>\n",
       "      <td>Costa Mesa</td>\n",
       "      <td>California</td>\n",
       "      <td>92627</td>\n",
       "      <td>West</td>\n",
       "      <td>FUR-FU-10000747</td>\n",
       "      <td>Furniture</td>\n",
       "      <td>Furnishings</td>\n",
       "      <td>Tenex B1-RE Series Chair Mats for Low Pile Car...</td>\n",
       "      <td>2</td>\n",
       "      <td>0.00</td>\n",
       "      <td>15.6332</td>\n",
       "      <td>5</td>\n",
       "      <td>38.1634</td>\n",
       "      <td>38.163400</td>\n",
       "    </tr>\n",
       "    <tr>\n",
       "      <th>9991</th>\n",
       "      <td>CA-2017-121258</td>\n",
       "      <td>Standard Class</td>\n",
       "      <td>DB-13060</td>\n",
       "      <td>Consumer</td>\n",
       "      <td>Costa Mesa</td>\n",
       "      <td>California</td>\n",
       "      <td>92627</td>\n",
       "      <td>West</td>\n",
       "      <td>TEC-PH-10003645</td>\n",
       "      <td>Technology</td>\n",
       "      <td>Phones</td>\n",
       "      <td>Aastra 57i VoIP phone</td>\n",
       "      <td>2</td>\n",
       "      <td>0.20</td>\n",
       "      <td>19.3932</td>\n",
       "      <td>5</td>\n",
       "      <td>119.5914</td>\n",
       "      <td>143.509680</td>\n",
       "    </tr>\n",
       "    <tr>\n",
       "      <th>9992</th>\n",
       "      <td>CA-2017-121258</td>\n",
       "      <td>Standard Class</td>\n",
       "      <td>DB-13060</td>\n",
       "      <td>Consumer</td>\n",
       "      <td>Costa Mesa</td>\n",
       "      <td>California</td>\n",
       "      <td>92627</td>\n",
       "      <td>West</td>\n",
       "      <td>OFF-PA-10004041</td>\n",
       "      <td>Office Supplies</td>\n",
       "      <td>Paper</td>\n",
       "      <td>It's Hot Message Books with Stickers, 2 3/4\" x 5\"</td>\n",
       "      <td>4</td>\n",
       "      <td>0.00</td>\n",
       "      <td>13.3200</td>\n",
       "      <td>5</td>\n",
       "      <td>4.0700</td>\n",
       "      <td>4.070000</td>\n",
       "    </tr>\n",
       "    <tr>\n",
       "      <th>9993</th>\n",
       "      <td>CA-2017-119914</td>\n",
       "      <td>Second Class</td>\n",
       "      <td>CC-12220</td>\n",
       "      <td>Consumer</td>\n",
       "      <td>Westminster</td>\n",
       "      <td>California</td>\n",
       "      <td>92683</td>\n",
       "      <td>West</td>\n",
       "      <td>OFF-AP-10002684</td>\n",
       "      <td>Office Supplies</td>\n",
       "      <td>Appliances</td>\n",
       "      <td>Acco 7-Outlet Masterpiece Power Center, Wihtou...</td>\n",
       "      <td>2</td>\n",
       "      <td>0.00</td>\n",
       "      <td>72.9480</td>\n",
       "      <td>5</td>\n",
       "      <td>85.1060</td>\n",
       "      <td>85.106000</td>\n",
       "    </tr>\n",
       "  </tbody>\n",
       "</table>\n",
       "<p>9994 rows × 18 columns</p>\n",
       "</div>"
      ],
      "text/plain": [
       "            Order ID       Ship Mode Customer ID    Segment             City  \\\n",
       "0     CA-2016-152156    Second Class    CG-12520   Consumer        Henderson   \n",
       "1     CA-2016-152156    Second Class    CG-12520   Consumer        Henderson   \n",
       "2     CA-2016-138688    Second Class    DV-13045  Corporate      Los Angeles   \n",
       "3     US-2015-108966  Standard Class    SO-20335   Consumer  Fort Lauderdale   \n",
       "4     US-2015-108966  Standard Class    SO-20335   Consumer  Fort Lauderdale   \n",
       "...              ...             ...         ...        ...              ...   \n",
       "9989  CA-2014-110422    Second Class    TB-21400   Consumer            Miami   \n",
       "9990  CA-2017-121258  Standard Class    DB-13060   Consumer       Costa Mesa   \n",
       "9991  CA-2017-121258  Standard Class    DB-13060   Consumer       Costa Mesa   \n",
       "9992  CA-2017-121258  Standard Class    DB-13060   Consumer       Costa Mesa   \n",
       "9993  CA-2017-119914    Second Class    CC-12220   Consumer      Westminster   \n",
       "\n",
       "           State  Postal Code Region       Product ID         Category  \\\n",
       "0       Kentucky        42420  South  FUR-BO-10001798        Furniture   \n",
       "1       Kentucky        42420  South  FUR-CH-10000454        Furniture   \n",
       "2     California        90036   West  OFF-LA-10000240  Office Supplies   \n",
       "3        Florida        33311  South  FUR-TA-10000577        Furniture   \n",
       "4        Florida        33311  South  OFF-ST-10000760  Office Supplies   \n",
       "...          ...          ...    ...              ...              ...   \n",
       "9989     Florida        33180  South  FUR-FU-10001889        Furniture   \n",
       "9990  California        92627   West  FUR-FU-10000747        Furniture   \n",
       "9991  California        92627   West  TEC-PH-10003645       Technology   \n",
       "9992  California        92627   West  OFF-PA-10004041  Office Supplies   \n",
       "9993  California        92683   West  OFF-AP-10002684  Office Supplies   \n",
       "\n",
       "     Sub-Category                                       Product Name  \\\n",
       "0       Bookcases                  Bush Somerset Collection Bookcase   \n",
       "1          Chairs  Hon Deluxe Fabric Upholstered Stacking Chairs,...   \n",
       "2          Labels  Self-Adhesive Address Labels for Typewriters b...   \n",
       "3          Tables      Bretford CR4500 Series Slim Rectangular Table   \n",
       "4         Storage                     Eldon Fold 'N Roll Cart System   \n",
       "...           ...                                                ...   \n",
       "9989  Furnishings                             Ultra Door Pull Handle   \n",
       "9990  Furnishings  Tenex B1-RE Series Chair Mats for Low Pile Car...   \n",
       "9991       Phones                              Aastra 57i VoIP phone   \n",
       "9992        Paper  It's Hot Message Books with Stickers, 2 3/4\" x 5\"   \n",
       "9993   Appliances  Acco 7-Outlet Masterpiece Power Center, Wihtou...   \n",
       "\n",
       "      Quantity  Discount    Profit  delivery_time  cost price  \\\n",
       "0            2      0.00   41.9136              3    110.0232   \n",
       "1            3      0.00  219.5820              3    170.7860   \n",
       "2            2      0.00    6.8714              4      3.8743   \n",
       "3            5      0.45 -383.0310              7    268.1217   \n",
       "4            2      0.20    2.5164              7      9.9258   \n",
       "...        ...       ...       ...            ...         ...   \n",
       "9989         3      0.20    4.1028              2      7.0484   \n",
       "9990         2      0.00   15.6332              5     38.1634   \n",
       "9991         2      0.20   19.3932              5    119.5914   \n",
       "9992         4      0.00   13.3200              5      4.0700   \n",
       "9993         2      0.00   72.9480              5     85.1060   \n",
       "\n",
       "      Price(before discount)  \n",
       "0                 110.023200  \n",
       "1                 170.786000  \n",
       "2                   3.874300  \n",
       "3                 388.776465  \n",
       "4                  11.910960  \n",
       "...                      ...  \n",
       "9989                8.458080  \n",
       "9990               38.163400  \n",
       "9991              143.509680  \n",
       "9992                4.070000  \n",
       "9993               85.106000  \n",
       "\n",
       "[9994 rows x 18 columns]"
      ]
     },
     "execution_count": 349,
     "metadata": {},
     "output_type": "execute_result"
    }
   ],
   "source": [
    "df = p_df.copy()\n",
    "df"
   ]
  },
  {
   "cell_type": "code",
   "execution_count": 350,
   "id": "4cbd213e",
   "metadata": {
    "execution": {
     "iopub.execute_input": "2023-10-29T11:03:25.169607Z",
     "iopub.status.busy": "2023-10-29T11:03:25.168924Z",
     "iopub.status.idle": "2023-10-29T11:03:25.176490Z",
     "shell.execute_reply": "2023-10-29T11:03:25.175453Z"
    },
    "papermill": {
     "duration": 0.051693,
     "end_time": "2023-10-29T11:03:25.178628",
     "exception": false,
     "start_time": "2023-10-29T11:03:25.126935",
     "status": "completed"
    },
    "tags": []
   },
   "outputs": [
    {
     "name": "stdout",
     "output_type": "stream",
     "text": [
      "(1850,)\n",
      "(631,)\n"
     ]
    }
   ],
   "source": [
    "#CHECKING THE UNIQUE VALUE COUNT FROM THE COLUMNS \n",
    "print(df['Product Name'].unique().shape)\n",
    "print(df['Postal Code'].unique().shape)"
   ]
  },
  {
   "cell_type": "code",
   "execution_count": 351,
   "id": "23f1f9c3",
   "metadata": {
    "execution": {
     "iopub.execute_input": "2023-10-29T11:03:25.341811Z",
     "iopub.status.busy": "2023-10-29T11:03:25.341129Z",
     "iopub.status.idle": "2023-10-29T11:03:25.354005Z",
     "shell.execute_reply": "2023-10-29T11:03:25.353053Z"
    },
    "papermill": {
     "duration": 0.0569,
     "end_time": "2023-10-29T11:03:25.356310",
     "exception": false,
     "start_time": "2023-10-29T11:03:25.299410",
     "status": "completed"
    },
    "tags": []
   },
   "outputs": [],
   "source": [
    "df['Product Name'] = df['Product Name'].apply(lambda x: x.replace(' ', ''))"
   ]
  },
  {
   "cell_type": "code",
   "execution_count": 352,
   "id": "9d748aa5",
   "metadata": {
    "execution": {
     "iopub.execute_input": "2023-10-29T11:03:25.439782Z",
     "iopub.status.busy": "2023-10-29T11:03:25.439077Z",
     "iopub.status.idle": "2023-10-29T11:03:25.449637Z",
     "shell.execute_reply": "2023-10-29T11:03:25.448820Z"
    },
    "papermill": {
     "duration": 0.054947,
     "end_time": "2023-10-29T11:03:25.451998",
     "exception": false,
     "start_time": "2023-10-29T11:03:25.397051",
     "status": "completed"
    },
    "tags": []
   },
   "outputs": [],
   "source": [
    "df['Product Name'] = df['Product Name'].apply(lambda x: x.lower())"
   ]
  },
  {
   "cell_type": "code",
   "execution_count": 353,
   "id": "ea6e091e",
   "metadata": {
    "execution": {
     "iopub.execute_input": "2023-10-29T11:03:25.534965Z",
     "iopub.status.busy": "2023-10-29T11:03:25.534555Z",
     "iopub.status.idle": "2023-10-29T11:03:25.551170Z",
     "shell.execute_reply": "2023-10-29T11:03:25.550365Z"
    },
    "papermill": {
     "duration": 0.061135,
     "end_time": "2023-10-29T11:03:25.553178",
     "exception": false,
     "start_time": "2023-10-29T11:03:25.492043",
     "status": "completed"
    },
    "tags": []
   },
   "outputs": [],
   "source": [
    "df['Order ID'] = df['Order ID'].apply(lambda x: x.replace('-', ''))\n",
    "df['Customer ID'] = df['Customer ID'].apply(lambda x: x.replace('-', ''))"
   ]
  },
  {
   "cell_type": "code",
   "execution_count": 354,
   "id": "d015223a",
   "metadata": {
    "execution": {
     "iopub.execute_input": "2023-10-29T11:03:25.635970Z",
     "iopub.status.busy": "2023-10-29T11:03:25.635330Z",
     "iopub.status.idle": "2023-10-29T11:03:25.641512Z",
     "shell.execute_reply": "2023-10-29T11:03:25.640780Z"
    },
    "papermill": {
     "duration": 0.049897,
     "end_time": "2023-10-29T11:03:25.643508",
     "exception": false,
     "start_time": "2023-10-29T11:03:25.593611",
     "status": "completed"
    },
    "tags": []
   },
   "outputs": [
    {
     "data": {
      "text/plain": [
       "Index(['Order ID', 'Ship Mode', 'Customer ID', 'Segment', 'City', 'State',\n",
       "       'Postal Code', 'Region', 'Product ID', 'Category', 'Sub-Category',\n",
       "       'Product Name', 'Quantity', 'Discount', 'Profit', 'delivery_time',\n",
       "       'cost price', 'Price(before discount)'],\n",
       "      dtype='object')"
      ]
     },
     "execution_count": 354,
     "metadata": {},
     "output_type": "execute_result"
    }
   ],
   "source": [
    "df.columns"
   ]
  },
  {
   "cell_type": "code",
   "execution_count": 355,
   "id": "e7ff4d36",
   "metadata": {
    "execution": {
     "iopub.execute_input": "2023-10-29T11:03:25.808147Z",
     "iopub.status.busy": "2023-10-29T11:03:25.807762Z",
     "iopub.status.idle": "2023-10-29T11:03:25.815771Z",
     "shell.execute_reply": "2023-10-29T11:03:25.814635Z"
    },
    "papermill": {
     "duration": 0.053546,
     "end_time": "2023-10-29T11:03:25.818368",
     "exception": false,
     "start_time": "2023-10-29T11:03:25.764822",
     "status": "completed"
    },
    "tags": []
   },
   "outputs": [],
   "source": [
    "#SELECTING COLUMNS FOR MODEL\n",
    "df=df[['Order ID', 'Ship Mode', 'Customer ID','City', 'Postal Code', 'Product Name', 'Quantity','Discount', 'delivery_time','cost price', 'Price(before discount)']]"
   ]
  },
  {
   "cell_type": "code",
   "execution_count": 356,
   "id": "0259246b",
   "metadata": {
    "execution": {
     "iopub.execute_input": "2023-10-29T11:03:25.901501Z",
     "iopub.status.busy": "2023-10-29T11:03:25.901082Z",
     "iopub.status.idle": "2023-10-29T11:03:25.907673Z",
     "shell.execute_reply": "2023-10-29T11:03:25.906913Z"
    },
    "papermill": {
     "duration": 0.050835,
     "end_time": "2023-10-29T11:03:25.909664",
     "exception": false,
     "start_time": "2023-10-29T11:03:25.858829",
     "status": "completed"
    },
    "tags": []
   },
   "outputs": [
    {
     "data": {
      "text/plain": [
       "(9994, 11)"
      ]
     },
     "execution_count": 356,
     "metadata": {},
     "output_type": "execute_result"
    }
   ],
   "source": [
    "df.shape"
   ]
  },
  {
   "cell_type": "code",
   "execution_count": 357,
   "id": "019bf037",
   "metadata": {},
   "outputs": [
    {
     "name": "stdout",
     "output_type": "stream",
     "text": [
      "zsh:1: command not found: conda\r\n"
     ]
    }
   ],
   "source": [
    "!conda install py-xgboost"
   ]
  },
  {
   "cell_type": "code",
   "execution_count": 358,
   "id": "c9e3e00f",
   "metadata": {
    "execution": {
     "iopub.execute_input": "2023-10-29T11:03:25.994447Z",
     "iopub.status.busy": "2023-10-29T11:03:25.993387Z",
     "iopub.status.idle": "2023-10-29T11:03:26.160771Z",
     "shell.execute_reply": "2023-10-29T11:03:26.159758Z"
    },
    "papermill": {
     "duration": 0.212776,
     "end_time": "2023-10-29T11:03:26.163752",
     "exception": false,
     "start_time": "2023-10-29T11:03:25.950976",
     "status": "completed"
    },
    "tags": []
   },
   "outputs": [],
   "source": [
    "#IMPORTING LIBRARIES\n",
    "from sklearn.preprocessing import OneHotEncoder, OrdinalEncoder\n",
    "from sklearn.compose import ColumnTransformer"
   ]
  },
  {
   "cell_type": "code",
   "execution_count": 359,
   "id": "884616f7",
   "metadata": {
    "execution": {
     "iopub.execute_input": "2023-10-29T11:03:26.248870Z",
     "iopub.status.busy": "2023-10-29T11:03:26.248140Z",
     "iopub.status.idle": "2023-10-29T11:03:26.859620Z",
     "shell.execute_reply": "2023-10-29T11:03:26.858639Z"
    },
    "papermill": {
     "duration": 0.657785,
     "end_time": "2023-10-29T11:03:26.862351",
     "exception": false,
     "start_time": "2023-10-29T11:03:26.204566",
     "status": "completed"
    },
    "tags": []
   },
   "outputs": [],
   "source": [
    "from sklearn.metrics import r2_score,mean_absolute_error\n",
    "from xgboost import XGBRegressor"
   ]
  },
  {
   "cell_type": "code",
   "execution_count": 360,
   "id": "d8cc0bfa",
   "metadata": {
    "execution": {
     "iopub.execute_input": "2023-10-29T11:03:26.946073Z",
     "iopub.status.busy": "2023-10-29T11:03:26.945692Z",
     "iopub.status.idle": "2023-10-29T11:03:26.949959Z",
     "shell.execute_reply": "2023-10-29T11:03:26.949158Z"
    },
    "papermill": {
     "duration": 0.049146,
     "end_time": "2023-10-29T11:03:26.952145",
     "exception": false,
     "start_time": "2023-10-29T11:03:26.902999",
     "status": "completed"
    },
    "tags": []
   },
   "outputs": [],
   "source": [
    "from sklearn.model_selection import train_test_split"
   ]
  },
  {
   "cell_type": "code",
   "execution_count": 361,
   "id": "aecafa38",
   "metadata": {
    "execution": {
     "iopub.execute_input": "2023-10-29T11:03:27.036814Z",
     "iopub.status.busy": "2023-10-29T11:03:27.036142Z",
     "iopub.status.idle": "2023-10-29T11:03:27.044263Z",
     "shell.execute_reply": "2023-10-29T11:03:27.043460Z"
    },
    "papermill": {
     "duration": 0.054271,
     "end_time": "2023-10-29T11:03:27.046557",
     "exception": false,
     "start_time": "2023-10-29T11:03:26.992286",
     "status": "completed"
    },
    "tags": []
   },
   "outputs": [],
   "source": [
    "X=df.drop(columns=['Discount'])\n",
    "y=df[['Discount']]"
   ]
  },
  {
   "cell_type": "code",
   "execution_count": 362,
   "id": "983e1796",
   "metadata": {
    "execution": {
     "iopub.execute_input": "2023-10-29T11:03:27.130447Z",
     "iopub.status.busy": "2023-10-29T11:03:27.129720Z",
     "iopub.status.idle": "2023-10-29T11:03:27.140017Z",
     "shell.execute_reply": "2023-10-29T11:03:27.139024Z"
    },
    "papermill": {
     "duration": 0.0553,
     "end_time": "2023-10-29T11:03:27.142336",
     "exception": false,
     "start_time": "2023-10-29T11:03:27.087036",
     "status": "completed"
    },
    "tags": []
   },
   "outputs": [],
   "source": [
    "X_train, X_test, y_train, y_test = train_test_split(X, y, test_size=0.3, random_state=42)"
   ]
  },
  {
   "cell_type": "code",
   "execution_count": 363,
   "id": "84c4b8e9",
   "metadata": {
    "execution": {
     "iopub.execute_input": "2023-10-29T11:03:27.226130Z",
     "iopub.status.busy": "2023-10-29T11:03:27.225715Z",
     "iopub.status.idle": "2023-10-29T11:03:27.247597Z",
     "shell.execute_reply": "2023-10-29T11:03:27.246789Z"
    },
    "papermill": {
     "duration": 0.066778,
     "end_time": "2023-10-29T11:03:27.249625",
     "exception": false,
     "start_time": "2023-10-29T11:03:27.182847",
     "status": "completed"
    },
    "scrolled": true,
    "tags": []
   },
   "outputs": [
    {
     "data": {
      "text/html": [
       "<div>\n",
       "<style scoped>\n",
       "    .dataframe tbody tr th:only-of-type {\n",
       "        vertical-align: middle;\n",
       "    }\n",
       "\n",
       "    .dataframe tbody tr th {\n",
       "        vertical-align: top;\n",
       "    }\n",
       "\n",
       "    .dataframe thead th {\n",
       "        text-align: right;\n",
       "    }\n",
       "</style>\n",
       "<table border=\"1\" class=\"dataframe\">\n",
       "  <thead>\n",
       "    <tr style=\"text-align: right;\">\n",
       "      <th></th>\n",
       "      <th>Order ID</th>\n",
       "      <th>Ship Mode</th>\n",
       "      <th>Customer ID</th>\n",
       "      <th>City</th>\n",
       "      <th>Postal Code</th>\n",
       "      <th>Product Name</th>\n",
       "      <th>Quantity</th>\n",
       "      <th>delivery_time</th>\n",
       "      <th>cost price</th>\n",
       "      <th>Price(before discount)</th>\n",
       "    </tr>\n",
       "  </thead>\n",
       "  <tbody>\n",
       "    <tr>\n",
       "      <th>3428</th>\n",
       "      <td>US2017111024</td>\n",
       "      <td>Second Class</td>\n",
       "      <td>SZ20035</td>\n",
       "      <td>Lancaster</td>\n",
       "      <td>43130</td>\n",
       "      <td>bevisroundconferencetabletop,x-base</td>\n",
       "      <td>2</td>\n",
       "      <td>3</td>\n",
       "      <td>159.5681</td>\n",
       "      <td>223.39534</td>\n",
       "    </tr>\n",
       "    <tr>\n",
       "      <th>3538</th>\n",
       "      <td>CA2014158771</td>\n",
       "      <td>Same Day</td>\n",
       "      <td>SB20290</td>\n",
       "      <td>Henderson</td>\n",
       "      <td>42420</td>\n",
       "      <td>avery518</td>\n",
       "      <td>3</td>\n",
       "      <td>0</td>\n",
       "      <td>1.6380</td>\n",
       "      <td>1.63800</td>\n",
       "    </tr>\n",
       "    <tr>\n",
       "      <th>409</th>\n",
       "      <td>CA2017117457</td>\n",
       "      <td>Standard Class</td>\n",
       "      <td>KH16510</td>\n",
       "      <td>San Francisco</td>\n",
       "      <td>94110</td>\n",
       "      <td>wireboundservicecallbooks,51/2\"x4\"</td>\n",
       "      <td>1</td>\n",
       "      <td>4</td>\n",
       "      <td>5.0336</td>\n",
       "      <td>5.03360</td>\n",
       "    </tr>\n",
       "    <tr>\n",
       "      <th>4883</th>\n",
       "      <td>CA2017104080</td>\n",
       "      <td>Standard Class</td>\n",
       "      <td>AH10210</td>\n",
       "      <td>Anaheim</td>\n",
       "      <td>92804</td>\n",
       "      <td>greencanvasbinderfor8-1/2\"x14\"sheets</td>\n",
       "      <td>5</td>\n",
       "      <td>7</td>\n",
       "      <td>21.4000</td>\n",
       "      <td>25.68000</td>\n",
       "    </tr>\n",
       "    <tr>\n",
       "      <th>3846</th>\n",
       "      <td>CA2014101931</td>\n",
       "      <td>First Class</td>\n",
       "      <td>TS21370</td>\n",
       "      <td>Los Angeles</td>\n",
       "      <td>90049</td>\n",
       "      <td>eldonportablemobilemanager</td>\n",
       "      <td>5</td>\n",
       "      <td>3</td>\n",
       "      <td>20.6444</td>\n",
       "      <td>20.64440</td>\n",
       "    </tr>\n",
       "    <tr>\n",
       "      <th>...</th>\n",
       "      <td>...</td>\n",
       "      <td>...</td>\n",
       "      <td>...</td>\n",
       "      <td>...</td>\n",
       "      <td>...</td>\n",
       "      <td>...</td>\n",
       "      <td>...</td>\n",
       "      <td>...</td>\n",
       "      <td>...</td>\n",
       "      <td>...</td>\n",
       "    </tr>\n",
       "    <tr>\n",
       "      <th>5734</th>\n",
       "      <td>CA2017143574</td>\n",
       "      <td>First Class</td>\n",
       "      <td>DR12880</td>\n",
       "      <td>Milford</td>\n",
       "      <td>6460</td>\n",
       "      <td>daxexecutivesolidwooddocumentframe,desktoporha...</td>\n",
       "      <td>2</td>\n",
       "      <td>3</td>\n",
       "      <td>8.3028</td>\n",
       "      <td>8.30280</td>\n",
       "    </tr>\n",
       "    <tr>\n",
       "      <th>5191</th>\n",
       "      <td>US2017141943</td>\n",
       "      <td>Standard Class</td>\n",
       "      <td>DK12985</td>\n",
       "      <td>San Francisco</td>\n",
       "      <td>94122</td>\n",
       "      <td>peel&amp;seelrecycledcatalogenvelopes,brown</td>\n",
       "      <td>2</td>\n",
       "      <td>4</td>\n",
       "      <td>5.7900</td>\n",
       "      <td>5.79000</td>\n",
       "    </tr>\n",
       "    <tr>\n",
       "      <th>5390</th>\n",
       "      <td>CA2017163874</td>\n",
       "      <td>Second Class</td>\n",
       "      <td>NC18535</td>\n",
       "      <td>Seattle</td>\n",
       "      <td>98105</td>\n",
       "      <td>gbcimprintablecovers</td>\n",
       "      <td>3</td>\n",
       "      <td>2</td>\n",
       "      <td>5.5998</td>\n",
       "      <td>6.71976</td>\n",
       "    </tr>\n",
       "    <tr>\n",
       "      <th>860</th>\n",
       "      <td>CA2014133851</td>\n",
       "      <td>Standard Class</td>\n",
       "      <td>CM12445</td>\n",
       "      <td>San Francisco</td>\n",
       "      <td>94122</td>\n",
       "      <td>stapleremover</td>\n",
       "      <td>2</td>\n",
       "      <td>7</td>\n",
       "      <td>3.6064</td>\n",
       "      <td>3.60640</td>\n",
       "    </tr>\n",
       "    <tr>\n",
       "      <th>7270</th>\n",
       "      <td>CA2016123337</td>\n",
       "      <td>Standard Class</td>\n",
       "      <td>KD16495</td>\n",
       "      <td>San Jose</td>\n",
       "      <td>95123</td>\n",
       "      <td>sauderforesthillslibrarywithdoors,woodlandoakf...</td>\n",
       "      <td>2</td>\n",
       "      <td>6</td>\n",
       "      <td>143.2722</td>\n",
       "      <td>164.76303</td>\n",
       "    </tr>\n",
       "  </tbody>\n",
       "</table>\n",
       "<p>6995 rows × 10 columns</p>\n",
       "</div>"
      ],
      "text/plain": [
       "          Order ID       Ship Mode Customer ID           City  Postal Code  \\\n",
       "3428  US2017111024    Second Class     SZ20035      Lancaster        43130   \n",
       "3538  CA2014158771        Same Day     SB20290      Henderson        42420   \n",
       "409   CA2017117457  Standard Class     KH16510  San Francisco        94110   \n",
       "4883  CA2017104080  Standard Class     AH10210        Anaheim        92804   \n",
       "3846  CA2014101931     First Class     TS21370    Los Angeles        90049   \n",
       "...            ...             ...         ...            ...          ...   \n",
       "5734  CA2017143574     First Class     DR12880        Milford         6460   \n",
       "5191  US2017141943  Standard Class     DK12985  San Francisco        94122   \n",
       "5390  CA2017163874    Second Class     NC18535        Seattle        98105   \n",
       "860   CA2014133851  Standard Class     CM12445  San Francisco        94122   \n",
       "7270  CA2016123337  Standard Class     KD16495       San Jose        95123   \n",
       "\n",
       "                                           Product Name  Quantity  \\\n",
       "3428                bevisroundconferencetabletop,x-base         2   \n",
       "3538                                           avery518         3   \n",
       "409                  wireboundservicecallbooks,51/2\"x4\"         1   \n",
       "4883               greencanvasbinderfor8-1/2\"x14\"sheets         5   \n",
       "3846                         eldonportablemobilemanager         5   \n",
       "...                                                 ...       ...   \n",
       "5734  daxexecutivesolidwooddocumentframe,desktoporha...         2   \n",
       "5191            peel&seelrecycledcatalogenvelopes,brown         2   \n",
       "5390                               gbcimprintablecovers         3   \n",
       "860                                       stapleremover         2   \n",
       "7270  sauderforesthillslibrarywithdoors,woodlandoakf...         2   \n",
       "\n",
       "      delivery_time  cost price  Price(before discount)  \n",
       "3428              3    159.5681               223.39534  \n",
       "3538              0      1.6380                 1.63800  \n",
       "409               4      5.0336                 5.03360  \n",
       "4883              7     21.4000                25.68000  \n",
       "3846              3     20.6444                20.64440  \n",
       "...             ...         ...                     ...  \n",
       "5734              3      8.3028                 8.30280  \n",
       "5191              4      5.7900                 5.79000  \n",
       "5390              2      5.5998                 6.71976  \n",
       "860               7      3.6064                 3.60640  \n",
       "7270              6    143.2722               164.76303  \n",
       "\n",
       "[6995 rows x 10 columns]"
      ]
     },
     "execution_count": 363,
     "metadata": {},
     "output_type": "execute_result"
    }
   ],
   "source": [
    "pd.DataFrame(X_train)"
   ]
  },
  {
   "cell_type": "code",
   "execution_count": 364,
   "id": "fcd4e184",
   "metadata": {
    "execution": {
     "iopub.execute_input": "2023-10-29T11:03:27.336496Z",
     "iopub.status.busy": "2023-10-29T11:03:27.335286Z",
     "iopub.status.idle": "2023-10-29T11:03:27.341203Z",
     "shell.execute_reply": "2023-10-29T11:03:27.340408Z"
    },
    "papermill": {
     "duration": 0.052205,
     "end_time": "2023-10-29T11:03:27.343264",
     "exception": false,
     "start_time": "2023-10-29T11:03:27.291059",
     "status": "completed"
    },
    "tags": []
   },
   "outputs": [],
   "source": [
    "column_transformer = make_column_transformer(\n",
    "    (OneHotEncoder(handle_unknown='ignore'), ['Order ID', 'Customer ID', 'City', 'Postal Code','Product Name']),\n",
    "    (OrdinalEncoder(), ['Ship Mode']),\n",
    "    remainder='passthrough'\n",
    ")"
   ]
  },
  {
   "cell_type": "code",
   "execution_count": 365,
   "id": "2a16fa56",
   "metadata": {
    "execution": {
     "iopub.execute_input": "2023-10-29T11:03:27.429860Z",
     "iopub.status.busy": "2023-10-29T11:03:27.428757Z",
     "iopub.status.idle": "2023-10-29T11:03:27.560680Z",
     "shell.execute_reply": "2023-10-29T11:03:27.559354Z"
    },
    "papermill": {
     "duration": 0.177826,
     "end_time": "2023-10-29T11:03:27.563229",
     "exception": false,
     "start_time": "2023-10-29T11:03:27.385403",
     "status": "completed"
    },
    "tags": []
   },
   "outputs": [],
   "source": [
    "X_train = column_transformer.fit_transform(X_train)\n",
    "X_test = column_transformer.transform(X_test)"
   ]
  },
  {
   "cell_type": "code",
   "execution_count": 366,
   "id": "bbff434e",
   "metadata": {
    "execution": {
     "iopub.execute_input": "2023-10-29T11:03:27.730169Z",
     "iopub.status.busy": "2023-10-29T11:03:27.729798Z",
     "iopub.status.idle": "2023-10-29T11:03:43.086763Z",
     "shell.execute_reply": "2023-10-29T11:03:43.082796Z"
    },
    "papermill": {
     "duration": 15.402617,
     "end_time": "2023-10-29T11:03:43.089430",
     "exception": false,
     "start_time": "2023-10-29T11:03:27.686813",
     "status": "completed"
    },
    "tags": []
   },
   "outputs": [
    {
     "name": "stdout",
     "output_type": "stream",
     "text": [
      "R2 score 0.9551848106235421\n",
      "MAE 0.02369625197411648\n"
     ]
    }
   ],
   "source": [
    "step2 = XGBRegressor(n_estimators=1000)\n",
    "step2.fit(X_train, y_train)\n",
    "y_pred1 = step2.predict(X_test)\n",
    "\n",
    "\n",
    "print('R2 score',r2_score(y_test,y_pred1))\n",
    "print('MAE',mean_absolute_error(y_test,y_pred1))"
   ]
  },
  {
   "cell_type": "code",
   "execution_count": null,
   "id": "2f0ff95f",
   "metadata": {
    "papermill": {
     "duration": 0.041722,
     "end_time": "2023-10-29T11:03:43.175146",
     "exception": false,
     "start_time": "2023-10-29T11:03:43.133424",
     "status": "completed"
    },
    "tags": []
   },
   "outputs": [],
   "source": []
  },
  {
   "cell_type": "code",
   "execution_count": null,
   "id": "1b57aef5",
   "metadata": {},
   "outputs": [],
   "source": []
  },
  {
   "cell_type": "code",
   "execution_count": null,
   "id": "15899895",
   "metadata": {},
   "outputs": [],
   "source": []
  }
 ],
 "metadata": {
  "kernelspec": {
   "display_name": "Python 3",
   "language": "python",
   "name": "python3"
  },
  "language_info": {
   "codemirror_mode": {
    "name": "ipython",
    "version": 3
   },
   "file_extension": ".py",
   "mimetype": "text/x-python",
   "name": "python",
   "nbconvert_exporter": "python",
   "pygments_lexer": "ipython3",
   "version": "3.8.8"
  },
  "papermill": {
   "default_parameters": {},
   "duration": 39.488413,
   "end_time": "2023-10-29T11:03:43.938008",
   "environment_variables": {},
   "exception": null,
   "input_path": "__notebook__.ipynb",
   "output_path": "__notebook__.ipynb",
   "parameters": {},
   "start_time": "2023-10-29T11:03:04.449595",
   "version": "2.4.0"
  }
 },
 "nbformat": 4,
 "nbformat_minor": 5
}
